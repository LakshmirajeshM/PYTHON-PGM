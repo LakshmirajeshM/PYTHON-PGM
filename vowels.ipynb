{
  "nbformat": 4,
  "nbformat_minor": 0,
  "metadata": {
    "colab": {
      "provenance": [],
      "authorship_tag": "ABX9TyNrsI2gnzq1DUUPjoUerMiq",
      "include_colab_link": true
    },
    "kernelspec": {
      "name": "python3",
      "display_name": "Python 3"
    },
    "language_info": {
      "name": "python"
    }
  },
  "cells": [
    {
      "cell_type": "markdown",
      "metadata": {
        "id": "view-in-github",
        "colab_type": "text"
      },
      "source": [
        "<a href=\"https://colab.research.google.com/github/LakshmirajeshM/PYTHON-PGM/blob/main/vowels.ipynb\" target=\"_parent\"><img src=\"https://colab.research.google.com/assets/colab-badge.svg\" alt=\"Open In Colab\"/></a>"
      ]
    },
    {
      "cell_type": "code",
      "execution_count": 2,
      "metadata": {
        "colab": {
          "base_uri": "https://localhost:8080/"
        },
        "id": "YB7fIjEgGxfx",
        "outputId": "a599fbf4-016b-4aa0-ae93-180f9f640b10"
      },
      "outputs": [
        {
          "output_type": "stream",
          "name": "stdout",
          "text": [
            "Enter a wordapple\n",
            "['a', 'e']\n"
          ]
        }
      ],
      "source": [
        "l=[]\n",
        "word = input(\"Enter a word\") \n",
        "for i in word:\n",
        "  if i in (\"a\",\"e\",\"i\",\"o\",\"u\"):\n",
        "    l+=i\n",
        "print(l)\n",
        "\n",
        "\n"
      ]
    }
  ]
}